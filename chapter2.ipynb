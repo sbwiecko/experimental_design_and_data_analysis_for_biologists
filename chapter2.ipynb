{
 "cells": [
  {
   "cell_type": "markdown",
   "id": "b339e5d4",
   "metadata": {},
   "source": [
    "# Chapter 2 -- Traditional estimation and hypothesis tests: anesthetic effects on mice\n",
    "\n",
    "This notebook presents the Python equivalent for the R code example from **Box 2.2** featured in the book."
   ]
  },
  {
   "cell_type": "markdown",
   "id": "ab3f0bd6",
   "metadata": {},
   "source": [
    "## Worked example of traditional inference for two-group design\n",
    "\n",
    "Low et al (2016) examined the effects of two different anesthetics on aspects of the physiology of the mouse. Twelve mice were anesthetized with isoflurane and eleven mice were anesthetized with alpha chloralose and blood CO~2~ levels were recorded after 120 minutes. The *H*~0~ was that there is no difference between the anesthetics in the mean blood CO~2~ level. This is an independent comparison because individual mice were only given one of the two anesthetics."
   ]
  },
  {
   "cell_type": "markdown",
   "id": "5a668afd",
   "metadata": {},
   "source": [
    "### Preliminaries\n",
    "\n",
    "First, load the required packages, i.e., Pandas and NumPy"
   ]
  },
  {
   "cell_type": "code",
   "execution_count": 22,
   "id": "c1e688aa",
   "metadata": {},
   "outputs": [],
   "source": [
    "import pandas as pd\n",
    "import numpy as np"
   ]
  },
  {
   "cell_type": "markdown",
   "id": "595af73d",
   "metadata": {},
   "source": [
    "Import low data file"
   ]
  },
  {
   "cell_type": "code",
   "execution_count": 2,
   "id": "93b34a2c",
   "metadata": {},
   "outputs": [
    {
     "data": {
      "text/html": [
       "<div>\n",
       "<style scoped>\n",
       "    .dataframe tbody tr th:only-of-type {\n",
       "        vertical-align: middle;\n",
       "    }\n",
       "\n",
       "    .dataframe tbody tr th {\n",
       "        vertical-align: top;\n",
       "    }\n",
       "\n",
       "    .dataframe thead th {\n",
       "        text-align: right;\n",
       "    }\n",
       "</style>\n",
       "<table border=\"1\" class=\"dataframe\">\n",
       "  <thead>\n",
       "    <tr style=\"text-align: right;\">\n",
       "      <th></th>\n",
       "      <th>anesth</th>\n",
       "      <th>co2</th>\n",
       "    </tr>\n",
       "  </thead>\n",
       "  <tbody>\n",
       "    <tr>\n",
       "      <th>0</th>\n",
       "      <td>iso</td>\n",
       "      <td>43</td>\n",
       "    </tr>\n",
       "    <tr>\n",
       "      <th>1</th>\n",
       "      <td>iso</td>\n",
       "      <td>35</td>\n",
       "    </tr>\n",
       "    <tr>\n",
       "      <th>2</th>\n",
       "      <td>iso</td>\n",
       "      <td>50</td>\n",
       "    </tr>\n",
       "    <tr>\n",
       "      <th>3</th>\n",
       "      <td>iso</td>\n",
       "      <td>39</td>\n",
       "    </tr>\n",
       "    <tr>\n",
       "      <th>4</th>\n",
       "      <td>iso</td>\n",
       "      <td>56</td>\n",
       "    </tr>\n",
       "  </tbody>\n",
       "</table>\n",
       "</div>"
      ],
      "text/plain": [
       "  anesth  co2\n",
       "0    iso   43\n",
       "1    iso   35\n",
       "2    iso   50\n",
       "3    iso   39\n",
       "4    iso   56"
      ]
     },
     "execution_count": 2,
     "metadata": {},
     "output_type": "execute_result"
    }
   ],
   "source": [
    "data = pd.read_csv(\"./data/lowco2.csv\")\n",
    "data.head()"
   ]
  },
  {
   "cell_type": "markdown",
   "id": "d1fce6f3",
   "metadata": {},
   "source": [
    "We can generate a quick visualization."
   ]
  },
  {
   "cell_type": "code",
   "execution_count": 3,
   "id": "eb9bdc5e",
   "metadata": {},
   "outputs": [
    {
     "data": {
      "text/plain": [
       "<Axes: xlabel='co2', ylabel='anesth'>"
      ]
     },
     "execution_count": 3,
     "metadata": {},
     "output_type": "execute_result"
    },
    {
     "data": {
      "image/png": "[encoded data removed]",
      "text/plain": [
       "<Figure size 400x300 with 1 Axes>"
      ]
     },
     "metadata": {},
     "output_type": "display_data"
    }
   ],
   "source": [
    "import matplotlib.pyplot as plt\n",
    "import seaborn as sns\n",
    "\n",
    "plt.figure(figsize=(4,3))\n",
    "sns.boxplot(data=data, x='co2', y='anesth')\n",
    "sns.swarmplot(data=data, x='co2', y='anesth')"
   ]
  },
  {
   "cell_type": "markdown",
   "id": "892c977e",
   "metadata": {},
   "source": [
    "### Get summary statistics by anesthetic"
   ]
  },
  {
   "cell_type": "code",
   "execution_count": 4,
   "id": "534b6703",
   "metadata": {},
   "outputs": [
    {
     "data": {
      "text/html": [
       "<div>\n",
       "<style scoped>\n",
       "    .dataframe tbody tr th:only-of-type {\n",
       "        vertical-align: middle;\n",
       "    }\n",
       "\n",
       "    .dataframe tbody tr th {\n",
       "        vertical-align: top;\n",
       "    }\n",
       "\n",
       "    .dataframe thead tr th {\n",
       "        text-align: left;\n",
       "    }\n",
       "\n",
       "    .dataframe thead tr:last-of-type th {\n",
       "        text-align: right;\n",
       "    }\n",
       "</style>\n",
       "<table border=\"1\" class=\"dataframe\">\n",
       "  <thead>\n",
       "    <tr>\n",
       "      <th></th>\n",
       "      <th colspan=\"8\" halign=\"left\">co2</th>\n",
       "    </tr>\n",
       "    <tr>\n",
       "      <th></th>\n",
       "      <th>count</th>\n",
       "      <th>mean</th>\n",
       "      <th>std</th>\n",
       "      <th>min</th>\n",
       "      <th>25%</th>\n",
       "      <th>50%</th>\n",
       "      <th>75%</th>\n",
       "      <th>max</th>\n",
       "    </tr>\n",
       "    <tr>\n",
       "      <th>anesth</th>\n",
       "      <th></th>\n",
       "      <th></th>\n",
       "      <th></th>\n",
       "      <th></th>\n",
       "      <th></th>\n",
       "      <th></th>\n",
       "      <th></th>\n",
       "      <th></th>\n",
       "    </tr>\n",
       "  </thead>\n",
       "  <tbody>\n",
       "    <tr>\n",
       "      <th>ac</th>\n",
       "      <td>11.0</td>\n",
       "      <td>70.909091</td>\n",
       "      <td>20.201260</td>\n",
       "      <td>50.0</td>\n",
       "      <td>55.5</td>\n",
       "      <td>64.0</td>\n",
       "      <td>79.5</td>\n",
       "      <td>115.0</td>\n",
       "    </tr>\n",
       "    <tr>\n",
       "      <th>iso</th>\n",
       "      <td>12.0</td>\n",
       "      <td>50.000000</td>\n",
       "      <td>11.393778</td>\n",
       "      <td>35.0</td>\n",
       "      <td>42.0</td>\n",
       "      <td>50.5</td>\n",
       "      <td>54.0</td>\n",
       "      <td>79.0</td>\n",
       "    </tr>\n",
       "  </tbody>\n",
       "</table>\n",
       "</div>"
      ],
      "text/plain": [
       "         co2                                                     \n",
       "       count       mean        std   min   25%   50%   75%    max\n",
       "anesth                                                           \n",
       "ac      11.0  70.909091  20.201260  50.0  55.5  64.0  79.5  115.0\n",
       "iso     12.0  50.000000  11.393778  35.0  42.0  50.5  54.0   79.0"
      ]
     },
     "execution_count": 4,
     "metadata": {},
     "output_type": "execute_result"
    }
   ],
   "source": [
    "data.groupby('anesth').describe()"
   ]
  },
  {
   "cell_type": "code",
   "execution_count": 5,
   "id": "37c0e094",
   "metadata": {},
   "outputs": [
    {
     "data": {
      "text/html": [
       "<div>\n",
       "<style scoped>\n",
       "    .dataframe tbody tr th:only-of-type {\n",
       "        vertical-align: middle;\n",
       "    }\n",
       "\n",
       "    .dataframe tbody tr th {\n",
       "        vertical-align: top;\n",
       "    }\n",
       "\n",
       "    .dataframe thead tr th {\n",
       "        text-align: left;\n",
       "    }\n",
       "\n",
       "    .dataframe thead tr:last-of-type th {\n",
       "        text-align: right;\n",
       "    }\n",
       "</style>\n",
       "<table border=\"1\" class=\"dataframe\">\n",
       "  <thead>\n",
       "    <tr>\n",
       "      <th></th>\n",
       "      <th colspan=\"6\" halign=\"left\">co2</th>\n",
       "    </tr>\n",
       "    <tr>\n",
       "      <th></th>\n",
       "      <th>count</th>\n",
       "      <th>mean</th>\n",
       "      <th>median</th>\n",
       "      <th>std</th>\n",
       "      <th>var</th>\n",
       "      <th>sem</th>\n",
       "    </tr>\n",
       "    <tr>\n",
       "      <th>anesth</th>\n",
       "      <th></th>\n",
       "      <th></th>\n",
       "      <th></th>\n",
       "      <th></th>\n",
       "      <th></th>\n",
       "      <th></th>\n",
       "    </tr>\n",
       "  </thead>\n",
       "  <tbody>\n",
       "    <tr>\n",
       "      <th>ac</th>\n",
       "      <td>11</td>\n",
       "      <td>70.9</td>\n",
       "      <td>64.0</td>\n",
       "      <td>20.2</td>\n",
       "      <td>408.1</td>\n",
       "      <td>6.1</td>\n",
       "    </tr>\n",
       "    <tr>\n",
       "      <th>iso</th>\n",
       "      <td>12</td>\n",
       "      <td>50.0</td>\n",
       "      <td>50.5</td>\n",
       "      <td>11.4</td>\n",
       "      <td>129.8</td>\n",
       "      <td>3.3</td>\n",
       "    </tr>\n",
       "  </tbody>\n",
       "</table>\n",
       "</div>"
      ],
      "text/plain": [
       "         co2                               \n",
       "       count  mean median   std    var  sem\n",
       "anesth                                     \n",
       "ac        11  70.9   64.0  20.2  408.1  6.1\n",
       "iso       12  50.0   50.5  11.4  129.8  3.3"
      ]
     },
     "execution_count": 5,
     "metadata": {},
     "output_type": "execute_result"
    }
   ],
   "source": [
    "(\n",
    "    data\n",
    "    .groupby('anesth')\n",
    "    .agg(['count', 'mean', 'median', 'std', 'var', 'sem'])\n",
    "    .round(1)\n",
    ")"
   ]
  },
  {
   "cell_type": "markdown",
   "id": "1b3f7b95",
   "metadata": {},
   "source": [
    "The `summarySE` function in R calculates the confidence interval using the **t-distribution**.\n",
    "\n",
    "For calculating the confidences intervals of the means, we need to import StatsModels, and define functions to extract the boundaries of the confidence interval."
   ]
  },
  {
   "cell_type": "code",
   "execution_count": 6,
   "id": "00555100",
   "metadata": {},
   "outputs": [],
   "source": [
    "from statsmodels.stats.weightstats import DescrStatsW"
   ]
  },
  {
   "cell_type": "code",
   "execution_count": 7,
   "id": "e39827a1",
   "metadata": {},
   "outputs": [],
   "source": [
    "# Define confidence interval functions\n",
    "ci_lower = lambda x: DescrStatsW(x).tconfint_mean()[0]\n",
    "ci_upper = lambda x: DescrStatsW(x).tconfint_mean()[1]"
   ]
  },
  {
   "cell_type": "code",
   "execution_count": 8,
   "id": "fb70749c",
   "metadata": {},
   "outputs": [
    {
     "data": {
      "text/html": [
       "<div>\n",
       "<style scoped>\n",
       "    .dataframe tbody tr th:only-of-type {\n",
       "        vertical-align: middle;\n",
       "    }\n",
       "\n",
       "    .dataframe tbody tr th {\n",
       "        vertical-align: top;\n",
       "    }\n",
       "\n",
       "    .dataframe thead th {\n",
       "        text-align: right;\n",
       "    }\n",
       "</style>\n",
       "<table border=\"1\" class=\"dataframe\">\n",
       "  <thead>\n",
       "    <tr style=\"text-align: right;\">\n",
       "      <th></th>\n",
       "      <th>ci_lower</th>\n",
       "      <th>ci_upper</th>\n",
       "    </tr>\n",
       "    <tr>\n",
       "      <th>anesth</th>\n",
       "      <th></th>\n",
       "      <th></th>\n",
       "    </tr>\n",
       "  </thead>\n",
       "  <tbody>\n",
       "    <tr>\n",
       "      <th>ac</th>\n",
       "      <td>57.3</td>\n",
       "      <td>84.5</td>\n",
       "    </tr>\n",
       "    <tr>\n",
       "      <th>iso</th>\n",
       "      <td>42.8</td>\n",
       "      <td>57.2</td>\n",
       "    </tr>\n",
       "  </tbody>\n",
       "</table>\n",
       "</div>"
      ],
      "text/plain": [
       "        ci_lower  ci_upper\n",
       "anesth                    \n",
       "ac          57.3      84.5\n",
       "iso         42.8      57.2"
      ]
     },
     "execution_count": 8,
     "metadata": {},
     "output_type": "execute_result"
    }
   ],
   "source": [
    "data.groupby('anesth').agg(\n",
    "    ci_lower = ('co2', ci_lower),\n",
    "    ci_upper = ('co2', ci_upper)\n",
    ").round(1)"
   ]
  },
  {
   "cell_type": "markdown",
   "id": "a857d986",
   "metadata": {},
   "source": [
    "Or we can define a custom function, for example, to integrate any distribution for calculating the confidence interval of the mean."
   ]
  },
  {
   "cell_type": "code",
   "execution_count": 43,
   "id": "4e1572b8",
   "metadata": {},
   "outputs": [],
   "source": [
    "from scipy.stats import t as t_dist  # Avoid mixing t value with t-distribution\n",
    "\n",
    "def se(x):\n",
    "    # Returns the standard error of the data\n",
    "    return np.sqrt(x.var() / len(x))\n",
    "\n",
    "def ci95(x: np.array) -> tuple:\n",
    "    # Returns the 95% confidence interval of the mean (t-distribution)\n",
    "    mean_x = x.mean()  # Mean of the data\n",
    "    sem = se(x)  # Standard error of the log-transformed data\n",
    "    t = t_dist.ppf(.975, df=len(x)-1)  # Critical t-value with q=1-α/2\n",
    "    \n",
    "    # Calculate the confidence interval\n",
    "    return (mean_x - t*sem, mean_x + t*sem)"
   ]
  },
  {
   "cell_type": "code",
   "execution_count": null,
   "id": "b4e1fa0d",
   "metadata": {},
   "outputs": [],
   "source": [
    "# Create two separate functions for lower and upper bounds\n",
    "ci95_lower = lambda x: ci95(x)[0]\n",
    "ci95_upper = lambda x: ci95(x)[1]\n",
    "\n",
    "# Use named aggregation to create separate columns\n",
    "summary_df = (\n",
    "    data.groupby('anesth')['co2']\n",
    "    .agg(\n",
    "        n='count',\n",
    "        Mean='mean',\n",
    "        SD='std',\n",
    "        Variance='var',\n",
    "        SE=se,\n",
    "        ci95_lower=ci95_lower,\n",
    "        ci95_upper=ci95_upper\n",
    "    )\n",
    "    .round(2)\n",
    ")"
   ]
  },
  {
   "cell_type": "code",
   "execution_count": 52,
   "id": "3803c5c9",
   "metadata": {},
   "outputs": [
    {
     "name": "stdout",
     "output_type": "stream",
     "text": [
      "         n   Mean     SD  Variance    SE  ci95_lower  ci95_upper\n",
      "anesth                                                          \n",
      "ac      11  70.91  20.20    408.09  6.09       57.34       84.48\n",
      "iso     12  50.00  11.39    129.82  3.29       42.76       57.24\n"
     ]
    }
   ],
   "source": [
    "data.groupby('anesth').agg(['count', 'mean', 'median', 'std', se, ci95])\n",
    "\n",
    "print(summary_df)"
   ]
  },
  {
   "cell_type": "markdown",
   "id": "0a8911b1",
   "metadata": {},
   "source": [
    "### t-test for evaluating differences between two group means\n",
    "\n",
    "Fitting a simple linear model with anaesthetic as a categorical predictor provides additional information including an ANOVA table and allows effect sizes to be calculated"
   ]
  },
  {
   "cell_type": "code",
   "execution_count": 9,
   "id": "60541e02",
   "metadata": {},
   "outputs": [
    {
     "data": {
      "text/html": [
       "<div>\n",
       "<style scoped>\n",
       "    .dataframe tbody tr th:only-of-type {\n",
       "        vertical-align: middle;\n",
       "    }\n",
       "\n",
       "    .dataframe tbody tr th {\n",
       "        vertical-align: top;\n",
       "    }\n",
       "\n",
       "    .dataframe thead th {\n",
       "        text-align: right;\n",
       "    }\n",
       "</style>\n",
       "<table border=\"1\" class=\"dataframe\">\n",
       "  <thead>\n",
       "    <tr style=\"text-align: right;\">\n",
       "      <th></th>\n",
       "      <th>df</th>\n",
       "      <th>sum_sq</th>\n",
       "      <th>mean_sq</th>\n",
       "      <th>F</th>\n",
       "      <th>PR(&gt;F)</th>\n",
       "    </tr>\n",
       "  </thead>\n",
       "  <tbody>\n",
       "    <tr>\n",
       "      <th>anesth</th>\n",
       "      <td>1.0</td>\n",
       "      <td>2509.090909</td>\n",
       "      <td>2509.090909</td>\n",
       "      <td>9.564672</td>\n",
       "      <td>0.005515</td>\n",
       "    </tr>\n",
       "    <tr>\n",
       "      <th>Residual</th>\n",
       "      <td>21.0</td>\n",
       "      <td>5508.909091</td>\n",
       "      <td>262.329004</td>\n",
       "      <td>NaN</td>\n",
       "      <td>NaN</td>\n",
       "    </tr>\n",
       "  </tbody>\n",
       "</table>\n",
       "</div>"
      ],
      "text/plain": [
       "            df       sum_sq      mean_sq         F    PR(>F)\n",
       "anesth     1.0  2509.090909  2509.090909  9.564672  0.005515\n",
       "Residual  21.0  5508.909091   262.329004       NaN       NaN"
      ]
     },
     "execution_count": 9,
     "metadata": {},
     "output_type": "execute_result"
    }
   ],
   "source": [
    "import statsmodels.formula.api as smf\n",
    "from statsmodels.stats.anova import anova_lm\n",
    "\n",
    "model = smf.ols(\"co2 ~ anesth\", data=data)\n",
    "results = model.fit()\n",
    "\n",
    "anova_lm(results)"
   ]
  },
  {
   "cell_type": "code",
   "execution_count": 10,
   "id": "ed7745a3",
   "metadata": {},
   "outputs": [
    {
     "data": {
      "text/plain": [
       "1.2909576499753916"
      ]
     },
     "execution_count": 10,
     "metadata": {},
     "output_type": "execute_result"
    }
   ],
   "source": [
    "import pingouin as pg\n",
    "\n",
    "ix = data['anesth'] == 'ac'\n",
    "\n",
    "pg.compute_effsize(data.loc[ix, 'co2'], data.loc[~ix, 'co2'], eftype='cohen')"
   ]
  },
  {
   "cell_type": "markdown",
   "id": "be2ddad1",
   "metadata": {},
   "source": [
    "Note that we've chosen to show a standardized effect size, using the pooled variance from the analysis of variance - Residual MS = 262.33, and $\\sqrt{262.33} = 16.2$."
   ]
  },
  {
   "cell_type": "code",
   "execution_count": 11,
   "id": "22db8343",
   "metadata": {},
   "outputs": [
    {
     "data": {
      "text/plain": [
       "16.19660458244258"
      ]
     },
     "execution_count": 11,
     "metadata": {},
     "output_type": "execute_result"
    }
   ],
   "source": [
    "262.33**.5"
   ]
  },
  {
   "cell_type": "markdown",
   "id": "7c2205d4",
   "metadata": {},
   "source": [
    "### Homoscedasticity\n",
    "\n",
    "While we prefer graphical methods for assessing assumptions, we can evaluate differences between group variances with Levene's test."
   ]
  },
  {
   "cell_type": "code",
   "execution_count": 12,
   "id": "4e2143fa",
   "metadata": {},
   "outputs": [
    {
     "data": {
      "text/html": [
       "<div>\n",
       "<style scoped>\n",
       "    .dataframe tbody tr th:only-of-type {\n",
       "        vertical-align: middle;\n",
       "    }\n",
       "\n",
       "    .dataframe tbody tr th {\n",
       "        vertical-align: top;\n",
       "    }\n",
       "\n",
       "    .dataframe thead th {\n",
       "        text-align: right;\n",
       "    }\n",
       "</style>\n",
       "<table border=\"1\" class=\"dataframe\">\n",
       "  <thead>\n",
       "    <tr style=\"text-align: right;\">\n",
       "      <th></th>\n",
       "      <th>W</th>\n",
       "      <th>pval</th>\n",
       "      <th>equal_var</th>\n",
       "    </tr>\n",
       "  </thead>\n",
       "  <tbody>\n",
       "    <tr>\n",
       "      <th>levene</th>\n",
       "      <td>2.604035</td>\n",
       "      <td>0.121519</td>\n",
       "      <td>True</td>\n",
       "    </tr>\n",
       "  </tbody>\n",
       "</table>\n",
       "</div>"
      ],
      "text/plain": [
       "               W      pval  equal_var\n",
       "levene  2.604035  0.121519       True"
      ]
     },
     "execution_count": 12,
     "metadata": {},
     "output_type": "execute_result"
    }
   ],
   "source": [
    "pg.homoscedasticity(\n",
    "    data=data,\n",
    "    dv='co2',\n",
    "    group='anesth',\n",
    "    method='levene'\n",
    ")"
   ]
  },
  {
   "cell_type": "markdown",
   "id": "bf126d9c",
   "metadata": {},
   "source": [
    "### Comparing group means with a t-test assuming equal variances"
   ]
  },
  {
   "cell_type": "code",
   "execution_count": 13,
   "id": "b839cb40",
   "metadata": {},
   "outputs": [
    {
     "data": {
      "text/html": [
       "<div>\n",
       "<style scoped>\n",
       "    .dataframe tbody tr th:only-of-type {\n",
       "        vertical-align: middle;\n",
       "    }\n",
       "\n",
       "    .dataframe tbody tr th {\n",
       "        vertical-align: top;\n",
       "    }\n",
       "\n",
       "    .dataframe thead th {\n",
       "        text-align: right;\n",
       "    }\n",
       "</style>\n",
       "<table border=\"1\" class=\"dataframe\">\n",
       "  <thead>\n",
       "    <tr style=\"text-align: right;\">\n",
       "      <th></th>\n",
       "      <th>T</th>\n",
       "      <th>dof</th>\n",
       "      <th>alternative</th>\n",
       "      <th>p-val</th>\n",
       "      <th>CI95%</th>\n",
       "      <th>cohen-d</th>\n",
       "      <th>BF10</th>\n",
       "      <th>power</th>\n",
       "    </tr>\n",
       "  </thead>\n",
       "  <tbody>\n",
       "    <tr>\n",
       "      <th>T-test</th>\n",
       "      <td>3.09268</td>\n",
       "      <td>21</td>\n",
       "      <td>two-sided</td>\n",
       "      <td>0.005515</td>\n",
       "      <td>[6.85, 34.97]</td>\n",
       "      <td>1.290958</td>\n",
       "      <td>8.039</td>\n",
       "      <td>0.838576</td>\n",
       "    </tr>\n",
       "  </tbody>\n",
       "</table>\n",
       "</div>"
      ],
      "text/plain": [
       "              T  dof alternative     p-val          CI95%   cohen-d   BF10  \\\n",
       "T-test  3.09268   21   two-sided  0.005515  [6.85, 34.97]  1.290958  8.039   \n",
       "\n",
       "           power  \n",
       "T-test  0.838576  "
      ]
     },
     "execution_count": 13,
     "metadata": {},
     "output_type": "execute_result"
    }
   ],
   "source": [
    "ach = data.loc[ix, 'co2']\n",
    "iso = data.loc[~ix, 'co2']\n",
    "\n",
    "pg.ttest(x=ach, y=iso, correction=False)"
   ]
  },
  {
   "cell_type": "markdown",
   "id": "961bd701",
   "metadata": {},
   "source": [
    "### Comparing group means with a t-test allowing different group variances"
   ]
  },
  {
   "cell_type": "code",
   "execution_count": 14,
   "id": "2faad592",
   "metadata": {},
   "outputs": [
    {
     "data": {
      "text/html": [
       "<div>\n",
       "<style scoped>\n",
       "    .dataframe tbody tr th:only-of-type {\n",
       "        vertical-align: middle;\n",
       "    }\n",
       "\n",
       "    .dataframe tbody tr th {\n",
       "        vertical-align: top;\n",
       "    }\n",
       "\n",
       "    .dataframe thead th {\n",
       "        text-align: right;\n",
       "    }\n",
       "</style>\n",
       "<table border=\"1\" class=\"dataframe\">\n",
       "  <thead>\n",
       "    <tr style=\"text-align: right;\">\n",
       "      <th></th>\n",
       "      <th>T</th>\n",
       "      <th>dof</th>\n",
       "      <th>alternative</th>\n",
       "      <th>p-val</th>\n",
       "      <th>CI95%</th>\n",
       "      <th>cohen-d</th>\n",
       "      <th>BF10</th>\n",
       "      <th>power</th>\n",
       "    </tr>\n",
       "  </thead>\n",
       "  <tbody>\n",
       "    <tr>\n",
       "      <th>T-test</th>\n",
       "      <td>3.020569</td>\n",
       "      <td>15.485313</td>\n",
       "      <td>two-sided</td>\n",
       "      <td>0.008362</td>\n",
       "      <td>[6.19, 35.62]</td>\n",
       "      <td>1.290958</td>\n",
       "      <td>7.098</td>\n",
       "      <td>0.838576</td>\n",
       "    </tr>\n",
       "  </tbody>\n",
       "</table>\n",
       "</div>"
      ],
      "text/plain": [
       "               T        dof alternative     p-val          CI95%   cohen-d  \\\n",
       "T-test  3.020569  15.485313   two-sided  0.008362  [6.19, 35.62]  1.290958   \n",
       "\n",
       "         BF10     power  \n",
       "T-test  7.098  0.838576  "
      ]
     },
     "execution_count": 14,
     "metadata": {},
     "output_type": "execute_result"
    }
   ],
   "source": [
    "pg.ttest(data.loc[ix, 'co2'], data.loc[~ix, 'co2'], correction=True)"
   ]
  },
  {
   "cell_type": "markdown",
   "id": "17e9644a",
   "metadata": {},
   "source": [
    "### Non-parametric test\n",
    "\n",
    "The non-parametric Wilcoxon-Mann-Whitney test assesses whether the two samples come from identical populations that don't have to be normally distributed."
   ]
  },
  {
   "cell_type": "code",
   "execution_count": 21,
   "id": "b2abf935",
   "metadata": {},
   "outputs": [
    {
     "data": {
      "text/html": [
       "<div>\n",
       "<style scoped>\n",
       "    .dataframe tbody tr th:only-of-type {\n",
       "        vertical-align: middle;\n",
       "    }\n",
       "\n",
       "    .dataframe tbody tr th {\n",
       "        vertical-align: top;\n",
       "    }\n",
       "\n",
       "    .dataframe thead th {\n",
       "        text-align: right;\n",
       "    }\n",
       "</style>\n",
       "<table border=\"1\" class=\"dataframe\">\n",
       "  <thead>\n",
       "    <tr style=\"text-align: right;\">\n",
       "      <th></th>\n",
       "      <th>U-val</th>\n",
       "      <th>alternative</th>\n",
       "      <th>p-val</th>\n",
       "      <th>RBC</th>\n",
       "      <th>CLES</th>\n",
       "    </tr>\n",
       "  </thead>\n",
       "  <tbody>\n",
       "    <tr>\n",
       "      <th>MWU</th>\n",
       "      <td>114.0</td>\n",
       "      <td>two-sided</td>\n",
       "      <td>0.003398</td>\n",
       "      <td>0.727273</td>\n",
       "      <td>0.863636</td>\n",
       "    </tr>\n",
       "  </tbody>\n",
       "</table>\n",
       "</div>"
      ],
      "text/plain": [
       "     U-val alternative     p-val       RBC      CLES\n",
       "MWU  114.0   two-sided  0.003398  0.727273  0.863636"
      ]
     },
     "execution_count": 21,
     "metadata": {},
     "output_type": "execute_result"
    }
   ],
   "source": [
    "pg.mwu(\n",
    "    ach, iso, method='asymptotic',\n",
    "    use_continuity=True  # With continuity correction\n",
    ")"
   ]
  },
  {
   "cell_type": "markdown",
   "id": "266eb9cd",
   "metadata": {},
   "source": [
    "Note that `U-val` returned by Pingouin (or SciPy) is the U-value for `x`, i.e., the `ach` group. If we reverse `x` and `y`, we obtain the U-value of the `iso` group."
   ]
  },
  {
   "cell_type": "code",
   "execution_count": null,
   "id": "b322a86c",
   "metadata": {},
   "outputs": [],
   "source": [
    "from scipy.stats import rankdata\n",
    "\n",
    "ach = data.loc[ix, 'co2']\n",
    "iso = data.loc[~ix, 'co2']\n",
    "\n",
    "# Combine the data for ranking\n",
    "combined_data = np.concatenate((ach, iso))\n",
    "\n",
    "# Rank the combined data using the average method (default) for ties\n",
    "ranks = rankdata(combined_data, method='average')\n",
    "\n",
    "# Separate the ranks back into the original groups\n",
    "ach_ranks = ranks[:len(ach)]\n",
    "iso_ranks = ranks[len(ach):]\n",
    "\n",
    "# Calculate the sum of ranks for each group\n",
    "R_ach = np.sum(ach_ranks)\n",
    "R_iso= np.sum(iso_ranks)\n",
    "\n",
    "# Number of data points in each group\n",
    "n_ach = len(ach)\n",
    "n_iso = len(iso)\n",
    "\n",
    "# Calculate the U-statistic for each group\n",
    "U_ach = n_ach * n_iso + (n_ach * (n_ach + 1)) / 2 - R_ach\n",
    "U_iso = n_ach * n_iso + (n_iso * (n_iso + 1)) / 2 - R_iso\n",
    "\n",
    "# The Mann-Whitney U-statistic is the minimum of U_ach and U_iso\n",
    "U_statistic = min(U_ach, U_iso)"
   ]
  },
  {
   "cell_type": "code",
   "execution_count": 17,
   "id": "aa464815",
   "metadata": {},
   "outputs": [
    {
     "name": "stdout",
     "output_type": "stream",
     "text": [
      "Mann-Whitney U test - Manual calculation\n",
      "\n",
      "1. Combined and ranked data:\n",
      " Combined data: [ 60  53  54  73  64  95  57  80 115  79  50  43  35  50  39  56  54  39\n",
      "  51  49  54  51  79]\n",
      " Corresponding ranks: [16.  10.  12.  18.  17.  22.  15.  21.  23.  19.5  6.5  4.   1.   6.5\n",
      "  2.5 14.  12.   2.5  8.5  5.  12.   8.5 19.5]\n",
      "\n",
      "2. Rank sums:\n",
      " Sum of ranks for 'ach' group = 180.0\n",
      " Sum of ranks for 'iso' group = 96.0\n",
      "\n",
      "3. U-statistics calculation:\n",
      " Number of observations in 'ach' group = 11\n",
      " Number of observations in 'iso' group = 12\n"
     ]
    }
   ],
   "source": [
    "print(\"Mann-Whitney U test - Manual calculation\\n\")\n",
    "print(\"1. Combined and ranked data:\")\n",
    "print(\" Combined data:\", combined_data)\n",
    "print(\" Corresponding ranks:\", ranks)\n",
    "print()\n",
    "print(\"2. Rank sums:\")\n",
    "print(\" Sum of ranks for 'ach' group =\", R_ach)\n",
    "print(\" Sum of ranks for 'iso' group =\", R_iso)\n",
    "print()\n",
    "print(\"3. U-statistics calculation:\")\n",
    "print(\" Number of observations in 'ach' group =\", n_ach)\n",
    "print(\" Number of observations in 'iso' group =\", n_iso)"
   ]
  },
  {
   "cell_type": "code",
   "execution_count": 18,
   "id": "639c7581",
   "metadata": {},
   "outputs": [
    {
     "name": "stdout",
     "output_type": "stream",
     "text": [
      " U-statistic for 'ach' group (U_ach) = 18.0\n",
      " U-statistic for 'iso' group (U_iso) =  114.0\n",
      " Mann-Whitney U-statistic (min(U_ach, U_iso)) = 18.0\n",
      "\n",
      "4. Comparison with critical value:\n",
      " Critical U value (n=12, m=11, alpha=0.05, two-tailed): 33\n",
      "\n",
      "Conclusion: reject the null hypothesis.\n",
      " There is a statistically significant difference     between the 'ach' and 'iso' groups.\n"
     ]
    }
   ],
   "source": [
    "# Critical U value (two-tailed) from table, for n1=11, n2=12, alpha=0.05\n",
    "# https://real-statistics.com/statistics-tables/mann-whitney-table/\n",
    "U_critical = 33\n",
    "\n",
    "print(\" U-statistic for 'ach' group (U_ach) =\", U_ach)\n",
    "print(\" U-statistic for 'iso' group (U_iso) = \", U_iso)\n",
    "print(f\" Mann-Whitney U-statistic (min(U_ach, U_iso)) = {U_statistic}\")\n",
    "print()\n",
    "print(\"4. Comparison with critical value:\")\n",
    "print(f\" Critical U value (n={n_iso}, m={n_ach}, \\\n",
    "alpha=0.05, two-tailed): {U_critical}\\n\")\n",
    "\n",
    "# Compare U to the critical value and draw a conclusion\n",
    "if U_statistic <= U_critical:\n",
    "    print(\"Conclusion: reject the null hypothesis.\")\n",
    "    print(\" There is a statistically significant difference \\\n",
    "    between the 'ach' and 'iso' groups.\")\n",
    "else:\n",
    "    print(\"Conclusion: fail to reject the null hypothesis.\")\n",
    "    print(\" There is no statistically significant difference \\\n",
    "    between the 'ach' and 'iso' groups.\")"
   ]
  }
 ],
 "metadata": {
  "kernelspec": {
   "display_name": ".venv",
   "language": "python",
   "name": "python3"
  },
  "language_info": {
   "codemirror_mode": {
    "name": "ipython",
    "version": 3
   },
   "file_extension": ".py",
   "mimetype": "text/x-python",
   "name": "python",
   "nbconvert_exporter": "python",
   "pygments_lexer": "ipython3",
   "version": "3.12.10"
  }
 },
 "nbformat": 4,
 "nbformat_minor": 5
}
